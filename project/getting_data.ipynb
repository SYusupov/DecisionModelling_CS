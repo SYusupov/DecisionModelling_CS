{
 "cells": [
  {
   "cell_type": "markdown",
   "metadata": {},
   "source": [
    "## Obtaining data on some products for our analysis from [this source](https://www.data.gouv.fr/en/datasets/open-food-facts-produits-alimentaires-ingredients-nutrition-labels/)"
   ]
  },
  {
   "cell_type": "code",
   "execution_count": 2,
   "metadata": {},
   "outputs": [],
   "source": [
    "import pandas as pd\n",
    "import csv"
   ]
  },
  {
   "cell_type": "markdown",
   "metadata": {},
   "source": [
    "### Reading the large csv\n",
    "- Reading by 2000 rows\n",
    "- checking if all the columns we require have non-null values"
   ]
  },
  {
   "cell_type": "code",
   "execution_count": 61,
   "metadata": {},
   "outputs": [
    {
     "name": "stdout",
     "output_type": "stream",
     "text": [
      "900\n",
      "1000\n",
      "1100\n",
      "1200\n",
      "1300\n",
      "1400\n",
      "1500\n",
      "1600\n",
      "1700\n",
      "1800\n",
      "1900\n",
      "2000\n",
      "2100\n",
      "2200\n",
      "2300\n"
     ]
    }
   ],
   "source": [
    "filename = 'openfoodfacts.csv'\n",
    "columns = ['url', 'product_name', 'categories', 'countries_fr', 'nutriscore_score', 'nutriscore_grade', 'food_groups_tags', 'image_url', 'energy_100g', 'saturated-fat_100g', 'sugars_100g', 'fiber_100g', 'proteins_100g', 'salt_100g', 'fruits-vegetables-nuts_100g']\n",
    "\n",
    "# nonNulldata = 0\n",
    "chunksize = 2000\n",
    "i = 877\n",
    "for chunk in pd.read_csv(filename,sep='\\t', chunksize=chunksize):\n",
    "    i+=1\n",
    "    if isinstance(nonNulldata, int):\n",
    "        nonNulldata = chunk[columns].dropna()\n",
    "    else:\n",
    "        chunk1 = chunk[columns].dropna()\n",
    "        nonNulldata = pd.concat([nonNulldata, chunk1])\n",
    "    \n",
    "    if i % 100 == 0:\n",
    "        print(i)\n",
    "        nonNulldata.to_csv('cleanData.csv')\n",
    "\n",
    "    # if i == 2:\n",
    "    #     break"
   ]
  },
  {
   "cell_type": "markdown",
   "metadata": {},
   "source": [
    "### Leaving only some of the data\n",
    "- only of category 'Frozen products'"
   ]
  },
  {
   "cell_type": "code",
   "execution_count": 82,
   "metadata": {},
   "outputs": [],
   "source": [
    "df = pd.read_csv('cleanData.csv', index_col='index')"
   ]
  },
  {
   "cell_type": "code",
   "execution_count": 91,
   "metadata": {},
   "outputs": [],
   "source": [
    "df['categories'] = df['categories'].str.lower()\n",
    "frozen_rows = df['categories'].str.contains('surgelé', case=True)\n",
    "df = df[frozen_rows]"
   ]
  },
  {
   "cell_type": "code",
   "execution_count": 105,
   "metadata": {},
   "outputs": [],
   "source": [
    "df.to_csv('ourData.csv')"
   ]
  }
 ],
 "metadata": {
  "kernelspec": {
   "display_name": "Decision_Modelling-5MWfXJOk",
   "language": "python",
   "name": "python3"
  },
  "language_info": {
   "codemirror_mode": {
    "name": "ipython",
    "version": 3
   },
   "file_extension": ".py",
   "mimetype": "text/x-python",
   "name": "python",
   "nbconvert_exporter": "python",
   "pygments_lexer": "ipython3",
   "version": "3.10.12"
  }
 },
 "nbformat": 4,
 "nbformat_minor": 2
}
